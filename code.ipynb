{
 "cells": [
  {
   "cell_type": "code",
   "execution_count": 1,
   "id": "9777faaf",
   "metadata": {},
   "outputs": [],
   "source": [
    "import cv2\n",
    "import numpy as np\n",
    "import os\n",
    "import zipfile"
   ]
  },
  {
   "cell_type": "code",
   "execution_count": 2,
   "id": "9baa233e",
   "metadata": {},
   "outputs": [],
   "source": [
    "# Path to the zip file containing your labeled dataset\n",
    "zip_file_path = 'alarms-20231030T094954Z-001.zip'"
   ]
  },
  {
   "cell_type": "code",
   "execution_count": 3,
   "id": "9f884566",
   "metadata": {},
   "outputs": [],
   "source": [
    "# Directory where you want to extract the dataset\n",
    "extraction_dir = 'extraction_directory'"
   ]
  },
  {
   "cell_type": "code",
   "execution_count": 4,
   "id": "873d9737",
   "metadata": {},
   "outputs": [],
   "source": [
    "# Extract the contents of the zip file\n",
    "with zipfile.ZipFile(zip_file_path, 'r') as zip_ref:\n",
    "    zip_ref.extractall(extraction_dir)"
   ]
  },
  {
   "cell_type": "code",
   "execution_count": 5,
   "id": "6f4d84ff",
   "metadata": {},
   "outputs": [],
   "source": [
    "# Load YOLOv2 model\n",
    "yolov2_cfg = 'yolov2.cfg'\n",
    "yolov2_weights = 'yolov2.weights'\n",
    "net = cv2.dnn.readNet(yolov2_weights, yolov2_cfg)"
   ]
  },
  {
   "cell_type": "code",
   "execution_count": 6,
   "id": "d6b3f169",
   "metadata": {},
   "outputs": [],
   "source": [
    "# Load class names\n",
    "with open('coco.names', 'r') as f:\n",
    "    classes = f.read().strip().split('\\n')"
   ]
  },
  {
   "cell_type": "code",
   "execution_count": 7,
   "id": "903ddf00",
   "metadata": {},
   "outputs": [],
   "source": [
    "# Output video parameters\n",
    "output_dir = 'output_videos'\n",
    "os.makedirs(output_dir, exist_ok=True)"
   ]
  },
  {
   "cell_type": "code",
   "execution_count": 8,
   "id": "e8ca32b4",
   "metadata": {},
   "outputs": [],
   "source": [
    "# Process each video folder\n",
    "video_folders = [\n",
    "    'vehicle_only',\n",
    "    'spacial_case_with_false_detection',\n",
    "    'person_vehicle_movement',\n",
    "    'person_only'\n",
    "]"
   ]
  },
  {
   "cell_type": "code",
   "execution_count": 10,
   "id": "a5f28169",
   "metadata": {},
   "outputs": [
    {
     "ename": "KeyboardInterrupt",
     "evalue": "",
     "output_type": "error",
     "traceback": [
      "\u001b[1;31m---------------------------------------------------------------------------\u001b[0m",
      "\u001b[1;31mKeyboardInterrupt\u001b[0m                         Traceback (most recent call last)",
      "\u001b[1;32m~\\AppData\\Local\\Temp\\ipykernel_29308\\3743719264.py\u001b[0m in \u001b[0;36m<module>\u001b[1;34m\u001b[0m\n\u001b[0;32m     25\u001b[0m \u001b[1;33m\u001b[0m\u001b[0m\n\u001b[0;32m     26\u001b[0m             \u001b[0moutput_layers\u001b[0m \u001b[1;33m=\u001b[0m \u001b[0mnet\u001b[0m\u001b[1;33m.\u001b[0m\u001b[0mgetUnconnectedOutLayersNames\u001b[0m\u001b[1;33m(\u001b[0m\u001b[1;33m)\u001b[0m\u001b[1;33m\u001b[0m\u001b[1;33m\u001b[0m\u001b[0m\n\u001b[1;32m---> 27\u001b[1;33m             \u001b[0mouts\u001b[0m \u001b[1;33m=\u001b[0m \u001b[0mnet\u001b[0m\u001b[1;33m.\u001b[0m\u001b[0mforward\u001b[0m\u001b[1;33m(\u001b[0m\u001b[0moutput_layers\u001b[0m\u001b[1;33m)\u001b[0m\u001b[1;33m\u001b[0m\u001b[1;33m\u001b[0m\u001b[0m\n\u001b[0m\u001b[0;32m     28\u001b[0m \u001b[1;33m\u001b[0m\u001b[0m\n\u001b[0;32m     29\u001b[0m             \u001b[1;31m# Process the detected objects\u001b[0m\u001b[1;33m\u001b[0m\u001b[1;33m\u001b[0m\u001b[1;33m\u001b[0m\u001b[0m\n",
      "\u001b[1;31mKeyboardInterrupt\u001b[0m: "
     ]
    }
   ],
   "source": [
    "for folder in video_folders:\n",
    "    video_files = [f for f in os.listdir(os.path.join(extraction_dir, folder)) if f.endswith('.mp4')]\n",
    "\n",
    "    for video_file in video_files:\n",
    "        video_path = os.path.join(extraction_dir, folder, video_file)\n",
    "        cap = cv2.VideoCapture(video_path)\n",
    "\n",
    "        output_file = os.path.join(output_dir, f'{folder}_{video_file}.avi')\n",
    "\n",
    "        # Used MJPEG codec and match frame rate and resolution\n",
    "        fourcc = cv2.VideoWriter_fourcc(*'MJPG')\n",
    "        frame_width = int(cap.get(3))\n",
    "        frame_height = int(cap.get(4))\n",
    "        out_video = cv2.VideoWriter(output_file, fourcc, 30.0, (frame_width, frame_height))\n",
    "\n",
    "        while True:\n",
    "            ret, frame = cap.read()\n",
    "\n",
    "            if not ret:\n",
    "                break\n",
    "\n",
    "            # Perform object detection\n",
    "            blob = cv2.dnn.blobFromImage(frame, 1/255.0, (416, 416), [0, 0, 0], swapRB=True, crop=False)\n",
    "            net.setInput(blob)\n",
    "\n",
    "            output_layers = net.getUnconnectedOutLayersNames()\n",
    "            outs = net.forward(output_layers)\n",
    "\n",
    "            # Process the detected objects\n",
    "            class_ids = []\n",
    "            confidences = []\n",
    "            boxes = []\n",
    "\n",
    "            for out in outs:\n",
    "                for detection in out:\n",
    "                    scores = detection[5:]\n",
    "                    class_id = np.argmax(scores)\n",
    "                    confidence = scores[class_id]\n",
    "\n",
    "                    if confidence > 0.5:\n",
    "                        center_x = int(detection[0] * 640)\n",
    "                        center_y = int(detection[1] * 480)\n",
    "                        w = int(detection[2] * 640)\n",
    "                        h = int(detection[3] * 480)\n",
    "                        x = int(center_x - w / 2)\n",
    "                        y = int(center_y - h / 2)\n",
    "                        boxes.append([x, y, w, h])\n",
    "                        confidences.append(float(confidence))\n",
    "                        class_ids.append(class_id)\n",
    "\n",
    "            indexes = cv2.dnn.NMSBoxes(boxes, confidences, 0.5, 0.4)\n",
    "            for i in range(len(boxes)):\n",
    "                if i in indexes:\n",
    "                    x, y, w, h = boxes[i]\n",
    "                    label = str(classes[class_ids[i]])\n",
    "                    confidence = confidences[i]\n",
    "                    color = (0, 255, 0)  # BGR color code for the bounding box (green)\n",
    "                    cv2.rectangle(frame, (x, y), (x + w, y + h), color, 2)\n",
    "                    cv2.putText(frame, f\"{label} {confidence:.2f}\", (x, y - 10), cv2.FONT_HERSHEY_SIMPLEX, 0.5, color, 2)\n",
    "\n",
    "            out_video.write(frame)\n",
    "\n",
    "        cap.release()\n",
    "        out_video.release()"
   ]
  },
  {
   "cell_type": "code",
   "execution_count": null,
   "id": "c834daec",
   "metadata": {},
   "outputs": [],
   "source": []
  }
 ],
 "metadata": {
  "kernelspec": {
   "display_name": "Python 3 (ipykernel)",
   "language": "python",
   "name": "python3"
  },
  "language_info": {
   "codemirror_mode": {
    "name": "ipython",
    "version": 3
   },
   "file_extension": ".py",
   "mimetype": "text/x-python",
   "name": "python",
   "nbconvert_exporter": "python",
   "pygments_lexer": "ipython3",
   "version": "3.9.5"
  }
 },
 "nbformat": 4,
 "nbformat_minor": 5
}
